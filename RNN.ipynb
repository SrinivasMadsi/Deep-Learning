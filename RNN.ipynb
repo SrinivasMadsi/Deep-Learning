{
  "nbformat": 4,
  "nbformat_minor": 0,
  "metadata": {
    "colab": {
      "name": "RNN.ipynb",
      "version": "0.3.2",
      "provenance": [],
      "collapsed_sections": []
    },
    "kernelspec": {
      "name": "python3",
      "display_name": "Python 3"
    }
  },
  "cells": [
    {
      "metadata": {
        "id": "fq9HbMMD7h8F",
        "colab_type": "code",
        "colab": {}
      },
      "cell_type": "code",
      "source": [
        "# Recurrent Neural Network\n",
        "# Predicting Google Stock Prices\n",
        "%matplotlib inline\n",
        "import matplotlib.pyplot as plt\n",
        "import numpy as np\n",
        "import pandas as pd"
      ],
      "execution_count": 0,
      "outputs": []
    },
    {
      "metadata": {
        "id": "VtksGPJAZmv3",
        "colab_type": "code",
        "outputId": "d7f1ef6c-6125-44c3-961f-11194a7fc39a",
        "colab": {
          "base_uri": "https://localhost:8080/",
          "height": 122
        }
      },
      "cell_type": "code",
      "source": [
        "from google.colab import drive\n",
        "drive.mount('/content/gdrive')\n"
      ],
      "execution_count": 6,
      "outputs": [
        {
          "output_type": "stream",
          "text": [
            "Go to this URL in a browser: https://accounts.google.com/o/oauth2/auth?client_id=947318989803-6bn6qk8qdgf4n4g3pfee6491hc0brc4i.apps.googleusercontent.com&redirect_uri=urn%3Aietf%3Awg%3Aoauth%3A2.0%3Aoob&scope=email%20https%3A%2F%2Fwww.googleapis.com%2Fauth%2Fdocs.test%20https%3A%2F%2Fwww.googleapis.com%2Fauth%2Fdrive%20https%3A%2F%2Fwww.googleapis.com%2Fauth%2Fdrive.photos.readonly%20https%3A%2F%2Fwww.googleapis.com%2Fauth%2Fpeopleapi.readonly&response_type=code\n",
            "\n",
            "Enter your authorization code:\n",
            "··········\n",
            "Mounted at /content/gdrive\n"
          ],
          "name": "stdout"
        }
      ]
    },
    {
      "metadata": {
        "id": "xv-JeU6ZabEU",
        "colab_type": "code",
        "colab": {}
      },
      "cell_type": "code",
      "source": [
        "dataset_train = pd.read_csv('/content/gdrive/My Drive/Google_Stock_Price_Train.csv')"
      ],
      "execution_count": 0,
      "outputs": []
    },
    {
      "metadata": {
        "id": "aA18SCiBbX_p",
        "colab_type": "code",
        "outputId": "7ee21e21-4be0-42fd-eb61-4e4c0ea3998f",
        "colab": {
          "base_uri": "https://localhost:8080/",
          "height": 204
        }
      },
      "cell_type": "code",
      "source": [
        "dataset_train.head()"
      ],
      "execution_count": 8,
      "outputs": [
        {
          "output_type": "execute_result",
          "data": {
            "text/html": [
              "<div>\n",
              "<style scoped>\n",
              "    .dataframe tbody tr th:only-of-type {\n",
              "        vertical-align: middle;\n",
              "    }\n",
              "\n",
              "    .dataframe tbody tr th {\n",
              "        vertical-align: top;\n",
              "    }\n",
              "\n",
              "    .dataframe thead th {\n",
              "        text-align: right;\n",
              "    }\n",
              "</style>\n",
              "<table border=\"1\" class=\"dataframe\">\n",
              "  <thead>\n",
              "    <tr style=\"text-align: right;\">\n",
              "      <th></th>\n",
              "      <th>Date</th>\n",
              "      <th>Open</th>\n",
              "      <th>High</th>\n",
              "      <th>Low</th>\n",
              "      <th>Close</th>\n",
              "      <th>Volume</th>\n",
              "    </tr>\n",
              "  </thead>\n",
              "  <tbody>\n",
              "    <tr>\n",
              "      <th>0</th>\n",
              "      <td>1/3/2012</td>\n",
              "      <td>325.25</td>\n",
              "      <td>332.83</td>\n",
              "      <td>324.97</td>\n",
              "      <td>663.59</td>\n",
              "      <td>7,380,500</td>\n",
              "    </tr>\n",
              "    <tr>\n",
              "      <th>1</th>\n",
              "      <td>1/4/2012</td>\n",
              "      <td>331.27</td>\n",
              "      <td>333.87</td>\n",
              "      <td>329.08</td>\n",
              "      <td>666.45</td>\n",
              "      <td>5,749,400</td>\n",
              "    </tr>\n",
              "    <tr>\n",
              "      <th>2</th>\n",
              "      <td>1/5/2012</td>\n",
              "      <td>329.83</td>\n",
              "      <td>330.75</td>\n",
              "      <td>326.89</td>\n",
              "      <td>657.21</td>\n",
              "      <td>6,590,300</td>\n",
              "    </tr>\n",
              "    <tr>\n",
              "      <th>3</th>\n",
              "      <td>1/6/2012</td>\n",
              "      <td>328.34</td>\n",
              "      <td>328.77</td>\n",
              "      <td>323.68</td>\n",
              "      <td>648.24</td>\n",
              "      <td>5,405,900</td>\n",
              "    </tr>\n",
              "    <tr>\n",
              "      <th>4</th>\n",
              "      <td>1/9/2012</td>\n",
              "      <td>322.04</td>\n",
              "      <td>322.29</td>\n",
              "      <td>309.46</td>\n",
              "      <td>620.76</td>\n",
              "      <td>11,688,800</td>\n",
              "    </tr>\n",
              "  </tbody>\n",
              "</table>\n",
              "</div>"
            ],
            "text/plain": [
              "       Date    Open    High     Low   Close      Volume\n",
              "0  1/3/2012  325.25  332.83  324.97  663.59   7,380,500\n",
              "1  1/4/2012  331.27  333.87  329.08  666.45   5,749,400\n",
              "2  1/5/2012  329.83  330.75  326.89  657.21   6,590,300\n",
              "3  1/6/2012  328.34  328.77  323.68  648.24   5,405,900\n",
              "4  1/9/2012  322.04  322.29  309.46  620.76  11,688,800"
            ]
          },
          "metadata": {
            "tags": []
          },
          "execution_count": 8
        }
      ]
    },
    {
      "metadata": {
        "id": "55798ZJYbqa8",
        "colab_type": "code",
        "colab": {}
      },
      "cell_type": "code",
      "source": [
        "training_set = dataset_train.iloc[:,1:2].values # For getting numpy array of 'Open' column,we are using 1:2 since anyway upper bound is excluded"
      ],
      "execution_count": 0,
      "outputs": []
    },
    {
      "metadata": {
        "id": "ZD-7FvTvb2Cm",
        "colab_type": "code",
        "colab": {}
      },
      "cell_type": "code",
      "source": [
        "#Feature Scaling"
      ],
      "execution_count": 0,
      "outputs": []
    },
    {
      "metadata": {
        "id": "vzZqRtRcI9qd",
        "colab_type": "text"
      },
      "cell_type": "markdown",
      "source": [
        ""
      ]
    },
    {
      "metadata": {
        "id": "M4rZJB-dc0a8",
        "colab_type": "code",
        "colab": {}
      },
      "cell_type": "code",
      "source": [
        "from sklearn.preprocessing import MinMaxScaler\n",
        "sc = MinMaxScaler(feature_range=(0,1)) # To make sure the scaled range between 0 and 1\n",
        "training_set_scaled = sc.fit_transform(training_set)\n"
      ],
      "execution_count": 0,
      "outputs": []
    },
    {
      "metadata": {
        "id": "JnSZ1eiGdjzk",
        "colab_type": "code",
        "colab": {}
      },
      "cell_type": "code",
      "source": [
        "# Creating a data structure with 60 timesteps and 1 output[indirectly we are using 3 months data to predict stock price]\n"
      ],
      "execution_count": 0,
      "outputs": []
    },
    {
      "metadata": {
        "id": "W06z8YGId11B",
        "colab_type": "code",
        "colab": {}
      },
      "cell_type": "code",
      "source": [
        "X_train = []\n",
        "y_train = []\n",
        "# start from 60 to length of the dataset\n",
        "for i in  range(60,1258):\n",
        "  X_train.append(training_set_scaled[i-60:i,0])\n",
        "  y_train.append(training_set_scaled[i,0])\n",
        "\n",
        "X_train,y_train = np.array(X_train),np.array(y_train)  \n",
        "  "
      ],
      "execution_count": 0,
      "outputs": []
    },
    {
      "metadata": {
        "id": "L7xpkYM6dvuN",
        "colab_type": "code",
        "outputId": "a80a9d67-5b55-4f63-93e7-43a13d8820e7",
        "colab": {
          "base_uri": "https://localhost:8080/",
          "height": 238
        }
      },
      "cell_type": "code",
      "source": [
        "X_train"
      ],
      "execution_count": 13,
      "outputs": [
        {
          "output_type": "execute_result",
          "data": {
            "text/plain": [
              "array([[0.08581368, 0.09701243, 0.09433366, ..., 0.07846566, 0.08034452,\n",
              "        0.08497656],\n",
              "       [0.09701243, 0.09433366, 0.09156187, ..., 0.08034452, 0.08497656,\n",
              "        0.08627874],\n",
              "       [0.09433366, 0.09156187, 0.07984225, ..., 0.08497656, 0.08627874,\n",
              "        0.08471612],\n",
              "       ...,\n",
              "       [0.92106928, 0.92438053, 0.93048218, ..., 0.95475854, 0.95204256,\n",
              "        0.95163331],\n",
              "       [0.92438053, 0.93048218, 0.9299055 , ..., 0.95204256, 0.95163331,\n",
              "        0.95725128],\n",
              "       [0.93048218, 0.9299055 , 0.93113327, ..., 0.95163331, 0.95725128,\n",
              "        0.93796041]])"
            ]
          },
          "metadata": {
            "tags": []
          },
          "execution_count": 13
        }
      ]
    },
    {
      "metadata": {
        "id": "kOwGs-Hke3No",
        "colab_type": "code",
        "colab": {}
      },
      "cell_type": "code",
      "source": [
        "# Reshaping the data\n",
        "X_train = np.reshape(X_train,(X_train.shape[0], X_train.shape[1],1)) # Check keras.io, 3Dimension code syntax\n"
      ],
      "execution_count": 0,
      "outputs": []
    },
    {
      "metadata": {
        "id": "kz1jtjhCfCqS",
        "colab_type": "code",
        "colab": {}
      },
      "cell_type": "code",
      "source": [
        "# Building the RNN\n",
        "from keras.models import Sequential\n",
        "from keras.layers import Dense\n",
        "from keras.layers import LSTM\n",
        "from keras.layers import Dropout"
      ],
      "execution_count": 0,
      "outputs": []
    },
    {
      "metadata": {
        "id": "88pDqE2RfHBo",
        "colab_type": "code",
        "colab": {}
      },
      "cell_type": "code",
      "source": [
        "# Initializing the RNN\n",
        "regressor = Sequential() # Here we wanna predict stock values which is continuous, so we are declaring variable as regressor"
      ],
      "execution_count": 0,
      "outputs": []
    },
    {
      "metadata": {
        "id": "hE1VLs9upBoJ",
        "colab_type": "code",
        "colab": {}
      },
      "cell_type": "code",
      "source": [
        "# Adding the First LSTM layer and some Dropout Regularization\n",
        "regressor.add(LSTM(units = 50, return_sequences = True,input_shape = (X_train.shape[1],1)))\n",
        "regressor.add(Dropout(0.2)) # 20% dropout Regularization"
      ],
      "execution_count": 0,
      "outputs": []
    },
    {
      "metadata": {
        "id": "gh1eC-hypTZ3",
        "colab_type": "code",
        "colab": {}
      },
      "cell_type": "code",
      "source": [
        "# Adding a Second LSTM layer and some Dropout Regularization\n",
        "regressor.add(LSTM(units = 50, return_sequences = True))\n",
        "regressor.add(Dropout(0.2))"
      ],
      "execution_count": 0,
      "outputs": []
    },
    {
      "metadata": {
        "id": "x2_tjm7xpT_K",
        "colab_type": "code",
        "colab": {}
      },
      "cell_type": "code",
      "source": [
        "# Adding a Third LSTM layer and some Dropout Regularization\n",
        "regressor.add(LSTM(units = 50, return_sequences = True))\n",
        "regressor.add(Dropout(0.2))"
      ],
      "execution_count": 0,
      "outputs": []
    },
    {
      "metadata": {
        "id": "xHXVxFsM5Ko-",
        "colab_type": "code",
        "colab": {}
      },
      "cell_type": "code",
      "source": [
        "# Adding a Fourth LSTM layer and some Dropout Regularization\n",
        "regressor.add(LSTM(units = 50)) # Here we are not returing anything so removing the parameter return_sequences=True\n",
        "regressor.add(Dropout(0.2))"
      ],
      "execution_count": 0,
      "outputs": []
    },
    {
      "metadata": {
        "id": "9b4yPR0miKwJ",
        "colab_type": "code",
        "colab": {}
      },
      "cell_type": "code",
      "source": [
        "# Adding the output layer\n",
        "regressor.add(Dense(units=1))"
      ],
      "execution_count": 0,
      "outputs": []
    },
    {
      "metadata": {
        "id": "wFT5aTEsixn0",
        "colab_type": "code",
        "colab": {}
      },
      "cell_type": "code",
      "source": [
        "# Compiling the RNN\n",
        "regressor.compile(optimizer = 'adam',loss = 'mean_squared_error') # As we are prediction continuous value, so loss function is MSE here"
      ],
      "execution_count": 0,
      "outputs": []
    },
    {
      "metadata": {
        "id": "zZAqR14SkCEC",
        "colab_type": "code",
        "colab": {
          "base_uri": "https://localhost:8080/",
          "height": 3434
        },
        "outputId": "cfee9a7b-1855-4a01-e501-8792b67b4178"
      },
      "cell_type": "code",
      "source": [
        "# Fitting RNN to the training set\n",
        "regressor.fit(X_train,y_train,epochs = 100,batch_size = 32)"
      ],
      "execution_count": 23,
      "outputs": [
        {
          "output_type": "stream",
          "text": [
            "Epoch 1/100\n",
            "1198/1198 [==============================] - 10s 8ms/step - loss: 0.0381\n",
            "Epoch 2/100\n",
            "1198/1198 [==============================] - 7s 6ms/step - loss: 0.0064\n",
            "Epoch 3/100\n",
            "1198/1198 [==============================] - 7s 6ms/step - loss: 0.0057\n",
            "Epoch 4/100\n",
            "1198/1198 [==============================] - 7s 6ms/step - loss: 0.0054\n",
            "Epoch 5/100\n",
            "1198/1198 [==============================] - 7s 6ms/step - loss: 0.0049\n",
            "Epoch 6/100\n",
            "1198/1198 [==============================] - 7s 6ms/step - loss: 0.0051\n",
            "Epoch 7/100\n",
            "1198/1198 [==============================] - 7s 6ms/step - loss: 0.0051\n",
            "Epoch 8/100\n",
            "1198/1198 [==============================] - 7s 6ms/step - loss: 0.0054\n",
            "Epoch 9/100\n",
            "1198/1198 [==============================] - 7s 6ms/step - loss: 0.0046\n",
            "Epoch 10/100\n",
            "1198/1198 [==============================] - 7s 6ms/step - loss: 0.0045\n",
            "Epoch 11/100\n",
            "1198/1198 [==============================] - 7s 6ms/step - loss: 0.0048\n",
            "Epoch 12/100\n",
            "1198/1198 [==============================] - 7s 6ms/step - loss: 0.0044\n",
            "Epoch 13/100\n",
            "1198/1198 [==============================] - 7s 6ms/step - loss: 0.0037\n",
            "Epoch 14/100\n",
            "1198/1198 [==============================] - 7s 6ms/step - loss: 0.0038\n",
            "Epoch 15/100\n",
            "1198/1198 [==============================] - 7s 6ms/step - loss: 0.0040\n",
            "Epoch 16/100\n",
            "1198/1198 [==============================] - 7s 6ms/step - loss: 0.0040\n",
            "Epoch 17/100\n",
            "1198/1198 [==============================] - 7s 6ms/step - loss: 0.0037\n",
            "Epoch 18/100\n",
            "1198/1198 [==============================] - 7s 6ms/step - loss: 0.0043\n",
            "Epoch 19/100\n",
            "1198/1198 [==============================] - 7s 6ms/step - loss: 0.0035\n",
            "Epoch 20/100\n",
            "1198/1198 [==============================] - 7s 6ms/step - loss: 0.0032\n",
            "Epoch 21/100\n",
            "1198/1198 [==============================] - 7s 6ms/step - loss: 0.0039\n",
            "Epoch 22/100\n",
            "1198/1198 [==============================] - 7s 6ms/step - loss: 0.0042\n",
            "Epoch 23/100\n",
            "1198/1198 [==============================] - 7s 6ms/step - loss: 0.0031\n",
            "Epoch 24/100\n",
            "1198/1198 [==============================] - 7s 6ms/step - loss: 0.0033\n",
            "Epoch 25/100\n",
            "1198/1198 [==============================] - 7s 6ms/step - loss: 0.0032\n",
            "Epoch 26/100\n",
            "1198/1198 [==============================] - 7s 6ms/step - loss: 0.0029\n",
            "Epoch 27/100\n",
            "1198/1198 [==============================] - 7s 6ms/step - loss: 0.0030\n",
            "Epoch 28/100\n",
            "1198/1198 [==============================] - 7s 6ms/step - loss: 0.0026\n",
            "Epoch 29/100\n",
            "1198/1198 [==============================] - 7s 6ms/step - loss: 0.0030\n",
            "Epoch 30/100\n",
            "1198/1198 [==============================] - 7s 6ms/step - loss: 0.0026\n",
            "Epoch 31/100\n",
            "1198/1198 [==============================] - 7s 6ms/step - loss: 0.0028\n",
            "Epoch 32/100\n",
            "1198/1198 [==============================] - 7s 6ms/step - loss: 0.0027\n",
            "Epoch 33/100\n",
            "1198/1198 [==============================] - 7s 6ms/step - loss: 0.0029\n",
            "Epoch 34/100\n",
            "1198/1198 [==============================] - 7s 6ms/step - loss: 0.0031\n",
            "Epoch 35/100\n",
            "1198/1198 [==============================] - 7s 6ms/step - loss: 0.0026\n",
            "Epoch 36/100\n",
            "1198/1198 [==============================] - 7s 6ms/step - loss: 0.0030\n",
            "Epoch 37/100\n",
            "1198/1198 [==============================] - 7s 6ms/step - loss: 0.0028\n",
            "Epoch 38/100\n",
            "1198/1198 [==============================] - 7s 6ms/step - loss: 0.0025\n",
            "Epoch 39/100\n",
            "1198/1198 [==============================] - 7s 6ms/step - loss: 0.0025\n",
            "Epoch 40/100\n",
            "1198/1198 [==============================] - 7s 6ms/step - loss: 0.0025\n",
            "Epoch 41/100\n",
            "1198/1198 [==============================] - 7s 6ms/step - loss: 0.0025\n",
            "Epoch 42/100\n",
            "1198/1198 [==============================] - 7s 6ms/step - loss: 0.0024\n",
            "Epoch 43/100\n",
            "1198/1198 [==============================] - 7s 6ms/step - loss: 0.0027\n",
            "Epoch 44/100\n",
            "1198/1198 [==============================] - 7s 6ms/step - loss: 0.0028\n",
            "Epoch 45/100\n",
            "1198/1198 [==============================] - 7s 6ms/step - loss: 0.0023\n",
            "Epoch 46/100\n",
            "1198/1198 [==============================] - 7s 6ms/step - loss: 0.0024\n",
            "Epoch 47/100\n",
            "1198/1198 [==============================] - 7s 6ms/step - loss: 0.0025\n",
            "Epoch 48/100\n",
            "1198/1198 [==============================] - 7s 6ms/step - loss: 0.0022\n",
            "Epoch 49/100\n",
            "1198/1198 [==============================] - 7s 6ms/step - loss: 0.0024\n",
            "Epoch 50/100\n",
            "1198/1198 [==============================] - 7s 6ms/step - loss: 0.0024\n",
            "Epoch 51/100\n",
            "1198/1198 [==============================] - 7s 6ms/step - loss: 0.0021\n",
            "Epoch 52/100\n",
            "1198/1198 [==============================] - 7s 6ms/step - loss: 0.0023\n",
            "Epoch 53/100\n",
            "1198/1198 [==============================] - 7s 6ms/step - loss: 0.0027\n",
            "Epoch 54/100\n",
            "1198/1198 [==============================] - 7s 6ms/step - loss: 0.0023\n",
            "Epoch 55/100\n",
            "1198/1198 [==============================] - 7s 6ms/step - loss: 0.0021\n",
            "Epoch 56/100\n",
            "1198/1198 [==============================] - 7s 6ms/step - loss: 0.0022\n",
            "Epoch 57/100\n",
            "1198/1198 [==============================] - 7s 6ms/step - loss: 0.0020\n",
            "Epoch 58/100\n",
            "1198/1198 [==============================] - 7s 6ms/step - loss: 0.0022\n",
            "Epoch 59/100\n",
            "1198/1198 [==============================] - 7s 6ms/step - loss: 0.0019\n",
            "Epoch 60/100\n",
            "1198/1198 [==============================] - 7s 6ms/step - loss: 0.0020\n",
            "Epoch 61/100\n",
            "1198/1198 [==============================] - 7s 6ms/step - loss: 0.0020\n",
            "Epoch 62/100\n",
            "1198/1198 [==============================] - 7s 6ms/step - loss: 0.0023\n",
            "Epoch 63/100\n",
            "1198/1198 [==============================] - 7s 6ms/step - loss: 0.0020\n",
            "Epoch 64/100\n",
            "1198/1198 [==============================] - 7s 6ms/step - loss: 0.0019\n",
            "Epoch 65/100\n",
            "1198/1198 [==============================] - 7s 6ms/step - loss: 0.0019\n",
            "Epoch 66/100\n",
            "1198/1198 [==============================] - 7s 6ms/step - loss: 0.0018\n",
            "Epoch 67/100\n",
            "1198/1198 [==============================] - 7s 6ms/step - loss: 0.0018\n",
            "Epoch 68/100\n",
            "1198/1198 [==============================] - 7s 6ms/step - loss: 0.0019\n",
            "Epoch 69/100\n",
            "1198/1198 [==============================] - 7s 6ms/step - loss: 0.0018\n",
            "Epoch 70/100\n",
            "1198/1198 [==============================] - 7s 6ms/step - loss: 0.0020\n",
            "Epoch 71/100\n",
            "1198/1198 [==============================] - 7s 6ms/step - loss: 0.0016\n",
            "Epoch 72/100\n",
            "1198/1198 [==============================] - 7s 6ms/step - loss: 0.0020\n",
            "Epoch 73/100\n",
            "1198/1198 [==============================] - 7s 6ms/step - loss: 0.0017\n",
            "Epoch 74/100\n",
            "1198/1198 [==============================] - 7s 6ms/step - loss: 0.0016\n",
            "Epoch 75/100\n",
            "1198/1198 [==============================] - 7s 6ms/step - loss: 0.0016\n",
            "Epoch 76/100\n",
            "1198/1198 [==============================] - 7s 6ms/step - loss: 0.0017\n",
            "Epoch 77/100\n",
            "1198/1198 [==============================] - 7s 6ms/step - loss: 0.0018\n",
            "Epoch 78/100\n",
            "1198/1198 [==============================] - 7s 6ms/step - loss: 0.0018\n",
            "Epoch 79/100\n",
            "1198/1198 [==============================] - 7s 6ms/step - loss: 0.0016\n",
            "Epoch 80/100\n",
            "1198/1198 [==============================] - 7s 6ms/step - loss: 0.0017\n",
            "Epoch 81/100\n",
            "1198/1198 [==============================] - 7s 6ms/step - loss: 0.0017\n",
            "Epoch 82/100\n",
            "1198/1198 [==============================] - 7s 6ms/step - loss: 0.0018\n",
            "Epoch 83/100\n",
            "1198/1198 [==============================] - 7s 6ms/step - loss: 0.0018\n",
            "Epoch 84/100\n",
            "1198/1198 [==============================] - 7s 6ms/step - loss: 0.0017\n",
            "Epoch 85/100\n",
            "1198/1198 [==============================] - 7s 6ms/step - loss: 0.0016\n",
            "Epoch 86/100\n",
            "1198/1198 [==============================] - 7s 6ms/step - loss: 0.0015\n",
            "Epoch 87/100\n",
            "1198/1198 [==============================] - 7s 6ms/step - loss: 0.0016\n",
            "Epoch 88/100\n",
            "1198/1198 [==============================] - 7s 6ms/step - loss: 0.0013\n",
            "Epoch 89/100\n",
            "1198/1198 [==============================] - 7s 6ms/step - loss: 0.0015\n",
            "Epoch 90/100\n",
            "1198/1198 [==============================] - 7s 6ms/step - loss: 0.0016\n",
            "Epoch 91/100\n",
            "1198/1198 [==============================] - 7s 6ms/step - loss: 0.0015\n",
            "Epoch 92/100\n",
            "1198/1198 [==============================] - 7s 6ms/step - loss: 0.0016\n",
            "Epoch 93/100\n",
            "1198/1198 [==============================] - 6s 5ms/step - loss: 0.0015\n",
            "Epoch 94/100\n",
            "1198/1198 [==============================] - 6s 5ms/step - loss: 0.0014\n",
            "Epoch 95/100\n",
            "1198/1198 [==============================] - 6s 5ms/step - loss: 0.0015\n",
            "Epoch 96/100\n",
            "1198/1198 [==============================] - 6s 5ms/step - loss: 0.0017\n",
            "Epoch 97/100\n",
            "1198/1198 [==============================] - 6s 5ms/step - loss: 0.0015\n",
            "Epoch 98/100\n",
            "1198/1198 [==============================] - 6s 5ms/step - loss: 0.0014\n",
            "Epoch 99/100\n",
            "1198/1198 [==============================] - 6s 5ms/step - loss: 0.0015\n",
            "Epoch 100/100\n",
            "1198/1198 [==============================] - 6s 5ms/step - loss: 0.0015\n"
          ],
          "name": "stdout"
        },
        {
          "output_type": "execute_result",
          "data": {
            "text/plain": [
              "<keras.callbacks.History at 0x7fbf7079ad30>"
            ]
          },
          "metadata": {
            "tags": []
          },
          "execution_count": 23
        }
      ]
    },
    {
      "metadata": {
        "id": "DexfA6TpmTnj",
        "colab_type": "code",
        "colab": {}
      },
      "cell_type": "code",
      "source": [
        "# Making the predictions and visalizing the dataset\n",
        "\n",
        "#Getting the real stock price of 2017 from test dataset\n",
        "dataset_test = pd.read_csv('/content/gdrive/My Drive/Google_Stock_Price_Test.csv')\n",
        "real_stock_price = dataset_test.iloc[:,1:2].values"
      ],
      "execution_count": 0,
      "outputs": []
    },
    {
      "metadata": {
        "id": "oNTwy_kqp4kx",
        "colab_type": "code",
        "colab": {}
      },
      "cell_type": "code",
      "source": [
        "# Getting the predicted stock price of 2017\n",
        "# Here we did analysis till now with 60 days of  past data used to predict 61th day stock price.\n",
        "#So even in test set also we need past data to predict. So concatenate train and test datasets\n",
        "dataset_total = pd.concat((dataset_train['Open'],dataset_test['Open']),axis =0 )\n",
        "inputs = dataset_total[len(dataset_total)-len(dataset_test)-60:].values\n",
        "inputs = inputs.reshape(-1,1)\n",
        "inputs = sc.transform(inputs)"
      ],
      "execution_count": 0,
      "outputs": []
    },
    {
      "metadata": {
        "id": "ektJBY83vow-",
        "colab_type": "code",
        "colab": {}
      },
      "cell_type": "code",
      "source": [
        "X_test = []\n",
        "for i in range(60,80): #we are considering from 60 and test set having 20 observations. So 60+20 = 80\n",
        "  X_test.append(inputs[i-60:i,0])\n",
        "X_test = np.array(X_test) \n",
        "X_test = np.reshape(X_test,(X_test.shape[0],X_test.shape[1],1))\n",
        "predicted_stock_price = regressor.predict(X_test)\n",
        "predicted_stock_price = sc.inverse_transform(predicted_stock_price)"
      ],
      "execution_count": 0,
      "outputs": []
    },
    {
      "metadata": {
        "id": "MftwiH-uylvJ",
        "colab_type": "code",
        "colab": {
          "base_uri": "https://localhost:8080/",
          "height": 294
        },
        "outputId": "cacda201-a9e7-407f-ea01-da1990d6af14"
      },
      "cell_type": "code",
      "source": [
        "# Visualising the results\n",
        "plt.plot(real_stock_price,color ='red',label = 'Real Google Stock Price')\n",
        "plt.plot(predicted_stock_price,color = 'blue',label = 'Predicted Google Stock Price')\n",
        "plt.title('Google Stock Price Prediction')\n",
        "plt.xlabel('Time')\n",
        "plt.ylabel('Google Stock Price')\n",
        "plt.legend()\n",
        "plt.show()\n"
      ],
      "execution_count": 28,
      "outputs": [
        {
          "output_type": "display_data",
          "data": {
            "image/png": "[encoded data removed]",
            "text/plain": [
              "<Figure size 432x288 with 1 Axes>"
            ]
          },
          "metadata": {
            "tags": []
          }
        }
      ]
    },
    {
      "metadata": {
        "id": "nEudUC_zztHC",
        "colab_type": "code",
        "colab": {}
      },
      "cell_type": "code",
      "source": [
        ""
      ],
      "execution_count": 0,
      "outputs": []
    }
  ]
}